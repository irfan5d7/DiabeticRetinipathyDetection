{
 "cells": [
  {
   "cell_type": "code",
   "execution_count": 1,
   "id": "f7f97fb0-10bb-4cd6-bc64-811d293faa1f",
   "metadata": {},
   "outputs": [],
   "source": [
    "import tensorflow\n",
    "import os\n",
    "from keras.layers import Input\n",
    "from tensorflow.keras.preprocessing.image import ImageDataGenerator\n",
    "from keras.layers import Flatten, Dense, Conv2D, MaxPooling2D, Dropout\n",
    "from tensorflow.keras.layers import Dropout\n",
    "from tensorflow.keras.layers import Flatten\n",
    "from tensorflow.keras.layers import Dense\n",
    "from tensorflow.keras.layers import Input\n",
    "from keras.layers import BatchNormalization\n",
    "from tensorflow.keras import Sequential\n",
    "from tensorflow.keras.optimizers import Adam\n",
    "from tensorflow.keras.preprocessing.image import img_to_array\n",
    "from tensorflow.keras.preprocessing.image import load_img\n",
    "from tensorflow.keras.utils import to_categorical\n",
    "from sklearn.preprocessing import LabelBinarizer\n",
    "from sklearn.model_selection import train_test_split\n",
    "from sklearn.metrics import classification_report\n",
    "from imutils import paths\n",
    "import matplotlib.pyplot as plt\n",
    "from keras.models import Model\n",
    "from sklearn.utils import shuffle\n",
    "from cv2 import imread\n",
    "import numpy as np\n",
    "import pandas as pd\n",
    "\n"
   ]
  },
  {
   "cell_type": "code",
   "execution_count": 2,
   "id": "697d74a8-cfb9-4f4d-bfe6-3c83753e0798",
   "metadata": {},
   "outputs": [],
   "source": [
    "import os\n",
    "import tensorflow.keras\n",
    "from PIL import Image, ImageOps\n",
    "import numpy as np\n"
   ]
  },
  {
   "cell_type": "markdown",
   "id": "dc971c0a-1f21-4e7d-beb2-5fad66c278dc",
   "metadata": {},
   "source": [
    "## load model \n"
   ]
  },
  {
   "cell_type": "code",
   "execution_count": 4,
   "id": "6e4cc300-4582-4003-817c-93f98ff79eb5",
   "metadata": {},
   "outputs": [
    {
     "name": "stderr",
     "output_type": "stream",
     "text": [
      "2022-05-03 15:20:02.687536: I tensorflow/core/common_runtime/process_util.cc:146] Creating new thread pool with default inter op setting: 2. Tune using inter_op_parallelism_threads for best performance.\n"
     ]
    }
   ],
   "source": [
    "model = tensorflow.keras.models.load_model(os.getcwd() + '/my_h5_model.h5')"
   ]
  },
  {
   "cell_type": "markdown",
   "id": "25e4af82-b4b9-4e03-baa3-c8de79297174",
   "metadata": {},
   "source": [
    "## image resize"
   ]
  },
  {
   "cell_type": "code",
   "execution_count": 12,
   "id": "35e68a40-92d6-4289-b9c0-195c6bf6a1f1",
   "metadata": {},
   "outputs": [],
   "source": [
    " data = np.ndarray(shape=(1, 64, 64, 3), dtype=np.float32)"
   ]
  },
  {
   "cell_type": "code",
   "execution_count": 40,
   "id": "38610fd4-7bf1-400c-9dc5-9e46a2398f28",
   "metadata": {},
   "outputs": [],
   "source": [
    " image = Image.open(os.getcwd() + '/resized_train/resized_train/' + \"16_left.jpeg\")"
   ]
  },
  {
   "cell_type": "code",
   "execution_count": 41,
   "id": "73202029-7fe3-4bf3-afbf-2339b9c4cd0f",
   "metadata": {},
   "outputs": [],
   "source": [
    "size = (64,64)\n",
    "image = ImageOps.fit(image, size, Image.ANTIALIAS)"
   ]
  },
  {
   "cell_type": "code",
   "execution_count": 42,
   "id": "e91027d2-513c-49c2-a8ee-8c09572a19dc",
   "metadata": {},
   "outputs": [],
   "source": [
    "image_array = np.asarray(image)"
   ]
  },
  {
   "cell_type": "code",
   "execution_count": 43,
   "id": "20dffaa2-391f-4fd6-99b7-d78d7c77e4f3",
   "metadata": {},
   "outputs": [],
   "source": [
    "normalized_image_array = (image_array.astype(np.float32) / 127.0) - 1"
   ]
  },
  {
   "cell_type": "code",
   "execution_count": 44,
   "id": "5521d5fa-6f33-423c-80d9-59b3fbdf391c",
   "metadata": {},
   "outputs": [],
   "source": [
    "data[0] = normalized_image_array"
   ]
  },
  {
   "cell_type": "markdown",
   "id": "7476ec13-e7ff-4f6b-9a42-e38ae91be26e",
   "metadata": {},
   "source": [
    "## Prediction"
   ]
  },
  {
   "cell_type": "code",
   "execution_count": 45,
   "id": "d759cef4-a236-40b7-b719-5fe5a37b74a3",
   "metadata": {},
   "outputs": [],
   "source": [
    " prediction = model.predict(data)"
   ]
  },
  {
   "cell_type": "code",
   "execution_count": 46,
   "id": "e52391eb-9fb4-4cf9-bc1c-ca3cab09e83e",
   "metadata": {},
   "outputs": [
    {
     "name": "stdout",
     "output_type": "stream",
     "text": [
      "[0.88741446 0.0240923  0.08132255 0.00400175 0.00316899]\n"
     ]
    }
   ],
   "source": [
    "pred_new = prediction[0]\n",
    "pred = max(pred_new)\n",
    "\n",
    "print(pred_new)\n",
    "index = pred_new.tolist().index(pred)"
   ]
  },
  {
   "cell_type": "code",
   "execution_count": 51,
   "id": "e97a4133-1a56-43b5-a3e8-39d60c13c05f",
   "metadata": {},
   "outputs": [],
   "source": [
    "results={0:\"No Dr\",1:\"Mild\",3:\"Sever\",4:\"Proliferative DR\"}"
   ]
  },
  {
   "cell_type": "code",
   "execution_count": 52,
   "id": "3efee66f-b0a7-4ac6-b3b4-6a9e8c76cc6b",
   "metadata": {},
   "outputs": [
    {
     "data": {
      "text/plain": [
       "'No Dr'"
      ]
     },
     "execution_count": 52,
     "metadata": {},
     "output_type": "execute_result"
    }
   ],
   "source": [
    "results[index]"
   ]
  },
  {
   "cell_type": "code",
   "execution_count": 53,
   "id": "c27a46a0-a793-4a8b-a8ae-b3a0e472c10f",
   "metadata": {},
   "outputs": [],
   "source": [
    "accuracy = round(pred, 2)"
   ]
  },
  {
   "cell_type": "code",
   "execution_count": 54,
   "id": "23499cb6-473d-4f4e-8a64-30155be98ecf",
   "metadata": {},
   "outputs": [
    {
     "data": {
      "text/plain": [
       "88.99999856948853"
      ]
     },
     "execution_count": 54,
     "metadata": {},
     "output_type": "execute_result"
    }
   ],
   "source": [
    "accuracy*100"
   ]
  },
  {
   "cell_type": "code",
   "execution_count": null,
   "id": "4cddb588-26cb-4021-b740-cd4d8aa2d229",
   "metadata": {},
   "outputs": [],
   "source": []
  }
 ],
 "metadata": {
  "environment": {
   "kernel": "conda-root-py",
   "name": "tf2-cpu.2-8.m91",
   "type": "gcloud",
   "uri": "gcr.io/deeplearning-platform-release/tf2-cpu.2-8:m91"
  },
  "kernelspec": {
   "display_name": "Python [conda env:root] *",
   "language": "python",
   "name": "conda-root-py"
  },
  "language_info": {
   "codemirror_mode": {
    "name": "ipython",
    "version": 3
   },
   "file_extension": ".py",
   "mimetype": "text/x-python",
   "name": "python",
   "nbconvert_exporter": "python",
   "pygments_lexer": "ipython3",
   "version": "3.7.12"
  }
 },
 "nbformat": 4,
 "nbformat_minor": 5
}
